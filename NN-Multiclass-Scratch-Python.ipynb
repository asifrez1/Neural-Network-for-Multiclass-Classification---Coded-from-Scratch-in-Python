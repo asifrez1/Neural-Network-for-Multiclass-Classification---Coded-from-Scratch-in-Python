{
  "nbformat": 4,
  "nbformat_minor": 0,
  "metadata": {
    "colab": {
      "name": "Github Copy of Homework_2.ipynb",
      "provenance": [],
      "collapsed_sections": []
    },
    "kernelspec": {
      "name": "python3",
      "display_name": "Python 3"
    }
  },
  "cells": [
    {
      "cell_type": "markdown",
      "metadata": {
        "id": "7VXge9kYFPla",
        "colab_type": "text"
      },
      "source": [
        "## **Code for NN Training and Prediction**"
      ]
    },
    {
      "cell_type": "code",
      "metadata": {
        "id": "kHSNOAUmHYyi",
        "colab_type": "code",
        "colab": {}
      },
      "source": [
        "# !pip install sklearn\n",
        "# !pip install pandas\n",
        "# !pip install numpy"
      ],
      "execution_count": null,
      "outputs": []
    },
    {
      "cell_type": "code",
      "metadata": {
        "id": "P8z-WKOwHeiu",
        "colab_type": "code",
        "colab": {
          "base_uri": "https://localhost:8080/",
          "height": 80
        },
        "outputId": "247f428c-a830-4159-8bb0-8bc3381d4045"
      },
      "source": [
        "import numpy as np\n",
        "import matplotlib\n",
        "import matplotlib.pyplot as plt\n",
        "from sklearn.metrics import accuracy_score\n",
        "from keras.datasets import mnist"
      ],
      "execution_count": null,
      "outputs": [
        {
          "output_type": "stream",
          "text": [
            "Using TensorFlow backend.\n"
          ],
          "name": "stderr"
        },
        {
          "output_type": "display_data",
          "data": {
            "text/html": [
              "<p style=\"color: red;\">\n",
              "The default version of TensorFlow in Colab will soon switch to TensorFlow 2.x.<br>\n",
              "We recommend you <a href=\"https://www.tensorflow.org/guide/migrate\" target=\"_blank\">upgrade</a> now \n",
              "or ensure your notebook will continue to use TensorFlow 1.x via the <code>%tensorflow_version 1.x</code> magic:\n",
              "<a href=\"https://colab.research.google.com/notebooks/tensorflow_version.ipynb\" target=\"_blank\">more info</a>.</p>\n"
            ],
            "text/plain": [
              "<IPython.core.display.HTML object>"
            ]
          },
          "metadata": {
            "tags": []
          }
        }
      ]
    },
    {
      "cell_type": "markdown",
      "metadata": {
        "id": "8WvgfwPPI6h3",
        "colab_type": "text"
      },
      "source": [
        "# **MINST (Sample Dataset)**\n",
        "\n"
      ]
    },
    {
      "cell_type": "code",
      "metadata": {
        "id": "qdpxl760vMBe",
        "colab_type": "code",
        "colab": {
          "base_uri": "https://localhost:8080/",
          "height": 585
        },
        "outputId": "ef4722c0-a08f-4c86-867d-d9e3b2e908b8"
      },
      "source": [
        "from keras.datasets import mnist\n",
        "(x_train, y_train), (x_test, y_test) = mnist.load_data()\n",
        "\n",
        "fig = plt.figure()\n",
        "for i in range(9):\n",
        "  plt.subplot(3,3,i+1)\n",
        "  plt.tight_layout()\n",
        "  plt.imshow(x_train[i], cmap='gray', interpolation='none')\n",
        "  plt.title(\"Digit: {}\".format(y_train[i]))\n",
        "  plt.xticks([])\n",
        "  plt.yticks([])\n",
        "fig"
      ],
      "execution_count": null,
      "outputs": [
        {
          "output_type": "stream",
          "text": [
            "Downloading data from https://s3.amazonaws.com/img-datasets/mnist.npz\n",
            "11493376/11490434 [==============================] - 0s 0us/step\n"
          ],
          "name": "stdout"
        },
        {
          "output_type": "execute_result",
          "data": {
            "image/png": "[encoded data removed]",
            "text/plain": [
              "<Figure size 432x288 with 9 Axes>"
            ]
          },
          "metadata": {
            "tags": []
          },
          "execution_count": 3
        },
        {
          "output_type": "display_data",
          "data": {
            "image/png": "[encoded data removed]",
            "text/plain": [
              "<Figure size 432x288 with 9 Axes>"
            ]
          },
          "metadata": {
            "tags": []
          }
        }
      ]
    },
    {
      "cell_type": "code",
      "metadata": {
        "colab_type": "code",
        "id": "H8pSY5bf4Lbl",
        "colab": {}
      },
      "source": [
        "# converting & normalizing\n",
        "X_train = x_train.reshape(60000, 784).astype('float32')/255\n",
        "X_test  = x_test.reshape(10000, 784).astype('float32')/255\n",
        "\n",
        "# hot encoding the labels\n",
        "from keras.utils import np_utils\n",
        "classes = 10\n",
        "y_train = np_utils.to_categorical(y_train, classes)\n",
        "y_test = np_utils.to_categorical(y_test, classes)"
      ],
      "execution_count": null,
      "outputs": []
    },
    {
      "cell_type": "code",
      "metadata": {
        "colab_type": "code",
        "id": "dLGL2xVkwM70",
        "colab": {}
      },
      "source": [
        "def softmax(x):\n",
        "    expx = np.exp(x - np.max(x))\n",
        "    return expx / expx.sum(axis = 0, keepdims = True)\n",
        "\n",
        "def sigmoid(x):\n",
        "    return 1.0 / (1.0 + np.exp(-x))\n",
        "\n",
        "def sigmoid_prime(x):\n",
        "    return sigmoid(x) * (1.0 - sigmoid(x))"
      ],
      "execution_count": null,
      "outputs": []
    },
    {
      "cell_type": "code",
      "metadata": {
        "id": "xbswkrK_5G2F",
        "colab_type": "code",
        "colab": {}
      },
      "source": [
        "class Dynamic_Layer:\n",
        "\n",
        "    def __init__(self, weight_dim, id, isoutputLayer = False):\n",
        "        self.weight = 2.5 * np.random.random(weight_dim) - 1\n",
        "        self.delta = None\n",
        "        self.A = None\n",
        "        self.isoutputLayer = isoutputLayer # distinguishing output layer\n",
        "\n",
        "    def forward_prop(self, x):\n",
        "        z = np.dot(x, self.weight)    \n",
        "        if self.isoutputLayer:\n",
        "            self.A = softmax(z)             \n",
        "        else:\n",
        "            self.A = sigmoid(z)\n",
        "            self.dZ = sigmoid_prime(z)\n",
        "        return self.A\n",
        "    \n",
        "    def backward_prop(self, y, forward_layer):\n",
        "        if self.isoutputLayer:\n",
        "            error =  self.A - y\n",
        "            self.delta = np.atleast_2d(error)\n",
        "        else:\n",
        "            self.delta = np.atleast_2d(forward_layer.delta.dot(forward_layer.weight.T) * self.dZ)\n",
        "        return self.delta\n",
        "\n",
        "    def update_function(self, alpha, back_input, lam, m):\n",
        "        a = np.atleast_2d(back_input)\n",
        "        d = np.atleast_2d(self.delta)\n",
        "        ad = a.T.dot(d)\n",
        "        # updating with L2 regularization term\n",
        "        self.weight = self.weight - alpha * ad - lam * self.weight * alpha / m\n",
        "        return self.weight"
      ],
      "execution_count": null,
      "outputs": []
    },
    {
      "cell_type": "code",
      "metadata": {
        "id": "zFRKeKdm5IeK",
        "colab_type": "code",
        "colab": {}
      },
      "source": [
        "class Neural_Network:\n",
        "\n",
        "    def __init__(self, network):\n",
        "        self.layers = []\n",
        "        for i in range(1, len(network) - 1):\n",
        "            weight_dim = (network[i - 1] + 1, network[i] + 1)\n",
        "            self.layers.append(Dynamic_Layer(weight_dim, i))\n",
        "        weight_dim = (network[i] + 1, network[i + 1])\n",
        "        self.layers.append(Dynamic_Layer(weight_dim, len(network) - 1, True))\n",
        "\n",
        "    def fit(self, X, y, alpha, max_iter, lam):\n",
        "        # adding bias to the input layer\n",
        "        ones = np.atleast_2d(np.ones(X.shape[0]))\n",
        "        X = np.concatenate((ones.T, X), axis=1)\n",
        "        cost = []\n",
        "        for k in range(max_iter):\n",
        "            i = np.random.randint(X.shape[0])\n",
        "            a = X[i]\n",
        "            # forward propagation\n",
        "            for l in range(len(self.layers)):\n",
        "                a = self.layers[l].forward_prop(a)\n",
        "            # backward propagation\n",
        "            delta = self.layers[-1].backward_prop(y[i], None)\n",
        "            for l in range(len(self.layers) - 2, -1, -1):\n",
        "                delta = self.layers[l].backward_prop(delta, self.layers[l+1])\n",
        "            # updating weights\n",
        "            a = X[i]\n",
        "            m = a.shape[0]\n",
        "            for layer in self.layers:\n",
        "                layer.update_function(alpha, a, lam, m)\n",
        "                a = layer.A             \n",
        "            # cross entropy with L2 regularization\n",
        "            cost.append(np.sum(-y * np.log(a)/len(y)) - lam * np.sum(a**2) / (2*m))\n",
        "            # plotting cross-entropy\n",
        "            plt.bar(k, cost[k])\n",
        "            plt.title(\"Cross Entropy\")\n",
        "            plt.xlabel('Iterations')\n",
        "         #   print(cost[k])\n",
        "\n",
        "    def predict(self, x):\n",
        "        ones = np.atleast_2d(np.ones(x.shape[0]))\n",
        "        a = np.concatenate((ones.T, x), axis=1)\n",
        "        for l in range(0, len(self.layers)):\n",
        "            a = self.layers[l].forward_prop(a)\n",
        "        return a"
      ],
      "execution_count": null,
      "outputs": []
    },
    {
      "cell_type": "markdown",
      "metadata": {
        "id": "WCEqxnyoGR9p",
        "colab_type": "text"
      },
      "source": [
        "**For Different Number of Hidden Layers**"
      ]
    },
    {
      "cell_type": "code",
      "metadata": {
        "id": "pwifAILiG1yA",
        "colab_type": "code",
        "colab": {
          "base_uri": "https://localhost:8080/",
          "height": 346
        },
        "outputId": "e9959b0c-e444-4a37-cc67-06a5cb751dd4"
      },
      "source": [
        "if __name__ == '__main__':\n",
        "\n",
        "    n = [[784, 350, 10], [784, 1200, 600, 10], [784, 520, 430, 280, 10]]\n",
        "    for i in range(len(n)):\n",
        "      net = Neural_Network(n[i])\n",
        "      net.fit(X_train, y_train, alpha=0.01, max_iter=1000, lam=0.01)\n",
        "\n",
        "      pred = net.predict(X_test)\n",
        "      predictions = np.argmax(pred, axis=1)\n",
        "      labels = np.argmax(y_test, axis=1)\n",
        "\n",
        "      print(\"Accuracy Score\", accuracy_score(predictions, labels))"
      ],
      "execution_count": null,
      "outputs": [
        {
          "output_type": "stream",
          "text": [
            "Accuracy Score 0.1513\n",
            "Accuracy Score 0.1009\n",
            "Accuracy Score 0.101\n"
          ],
          "name": "stdout"
        },
        {
          "output_type": "display_data",
          "data": {
            "image/png": "[encoded data removed]",
            "text/plain": [
              "<Figure size 432x288 with 1 Axes>"
            ]
          },
          "metadata": {
            "tags": []
          }
        }
      ]
    },
    {
      "cell_type": "markdown",
      "metadata": {
        "id": "gaXmXWK2U2JI",
        "colab_type": "text"
      },
      "source": [
        "**For different alpha values**"
      ]
    },
    {
      "cell_type": "code",
      "metadata": {
        "id": "NhPNnpB9VE8t",
        "colab_type": "code",
        "colab": {
          "base_uri": "https://localhost:8080/",
          "height": 346
        },
        "outputId": "e47bc384-6a69-42c4-e8a7-598802e88d36"
      },
      "source": [
        "if __name__ == '__main__':\n",
        "\n",
        "    n = [0.01, 0.1, 0.5]\n",
        "    for i in range(len(n)):\n",
        "      net = Neural_Network([784, 350, 10])\n",
        "      net.fit(X_train, y_train, alpha=n[i], max_iter=1000, lam=0.01)\n",
        "\n",
        "      pred = net.predict(X_test)\n",
        "      predictions = np.argmax(pred, axis=1)\n",
        "      labels = np.argmax(y_test, axis=1)\n",
        "\n",
        "      print(\"Accuracy Score\", accuracy_score(predictions, labels))"
      ],
      "execution_count": null,
      "outputs": [
        {
          "output_type": "stream",
          "text": [
            "Accuracy Score 0.1358\n",
            "Accuracy Score 0.3732\n",
            "Accuracy Score 0.3588\n"
          ],
          "name": "stdout"
        },
        {
          "output_type": "display_data",
          "data": {
            "image/png": "[encoded data removed]",
            "text/plain": [
              "<Figure size 432x288 with 1 Axes>"
            ]
          },
          "metadata": {
            "tags": []
          }
        }
      ]
    },
    {
      "cell_type": "markdown",
      "metadata": {
        "id": "GxCSI8XcWKB3",
        "colab_type": "text"
      },
      "source": [
        "**For different values of lambda**"
      ]
    },
    {
      "cell_type": "code",
      "metadata": {
        "id": "TXcCRm25W5Zf",
        "colab_type": "code",
        "colab": {
          "base_uri": "https://localhost:8080/",
          "height": 363
        },
        "outputId": "46ad170e-acd7-4431-8dfe-6e248e5aca93"
      },
      "source": [
        "if __name__ == '__main__':\n",
        "\n",
        "    n = [0, 2, 5, 10]\n",
        "    for i in range(len(n)):\n",
        "      net = Neural_Network([784, 350, 10])\n",
        "      net.fit(X_train, y_train, alpha=0.1, max_iter=1000, lam=n[i])\n",
        "\n",
        "      pred = net.predict(X_test)\n",
        "      predictions = np.argmax(pred, axis=1)\n",
        "      labels = np.argmax(y_test, axis=1)\n",
        "\n",
        "      print(\"Accuracy Score\", accuracy_score(predictions, labels))"
      ],
      "execution_count": null,
      "outputs": [
        {
          "output_type": "stream",
          "text": [
            "Accuracy Score 0.3458\n",
            "Accuracy Score 0.4048\n",
            "Accuracy Score 0.4333\n",
            "Accuracy Score 0.6047\n"
          ],
          "name": "stdout"
        },
        {
          "output_type": "display_data",
          "data": {
            "image/png": "[encoded data removed]",
            "text/plain": [
              "<Figure size 432x288 with 1 Axes>"
            ]
          },
          "metadata": {
            "tags": []
          }
        }
      ]
    },
    {
      "cell_type": "markdown",
      "metadata": {
        "id": "mA0XvghGYN_E",
        "colab_type": "text"
      },
      "source": [
        "**Summary**\n",
        "\n",
        "The configuration with the network 1 hidden layer worked best among all. Models with multiple hidden layers work better for the datasets that have so many features. \n",
        "I also get better result for the model with learning parameter, alpha = 0.1; it means the model reaches its gradient descent either too slow with smaller values of alpha and fulctuates highly with higher values of alpha.\n",
        "For the regularization parameter, lambda = 5 provided the best result. For the rest of the values, the weight decay was more than optimum for the model. "
      ]
    }
  ]
}